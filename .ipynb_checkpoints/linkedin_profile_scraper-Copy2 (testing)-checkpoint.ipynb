{
 "cells": [
  {
   "cell_type": "code",
   "execution_count": 1,
   "metadata": {},
   "outputs": [
    {
     "name": "stdout",
     "output_type": "stream",
     "text": [
      "Requirement already satisfied: beautifulsoup4 in c:\\programdata\\anaconda3\\envs\\linkedin\\lib\\site-packages (4.9.0)\n",
      "Requirement already satisfied: soupsieve>1.2 in c:\\programdata\\anaconda3\\envs\\linkedin\\lib\\site-packages (from beautifulsoup4) (2.0)\n",
      "Note: you may need to restart the kernel to use updated packages.\n"
     ]
    }
   ],
   "source": [
    "pip install beautifulsoup4"
   ]
  },
  {
   "cell_type": "code",
   "execution_count": 2,
   "metadata": {},
   "outputs": [],
   "source": [
    "import selenium\n",
    "# import ipython\n",
    "import time\n",
    "import parsel\n",
    "import csv\n",
    "\n",
    "import pandas as pd"
   ]
  },
  {
   "cell_type": "code",
   "execution_count": 3,
   "metadata": {},
   "outputs": [],
   "source": [
    "# import web driver\n",
    "from selenium import webdriver\n",
    "\n",
    "\n"
   ]
  },
  {
   "cell_type": "code",
   "execution_count": 4,
   "metadata": {
    "scrolled": true
   },
   "outputs": [],
   "source": [
    "#dfr = pd.read_csv('results_file.csv')"
   ]
  },
  {
   "cell_type": "code",
   "execution_count": 5,
   "metadata": {},
   "outputs": [],
   "source": [
    "import openpyxl\n"
   ]
  },
  {
   "cell_type": "code",
   "execution_count": 6,
   "metadata": {},
   "outputs": [],
   "source": [
    "res = openpyxl.load_workbook(filename='results_file.xlsx')\n",
    "results = res.worksheets[0]\n"
   ]
  },
  {
   "cell_type": "code",
   "execution_count": 7,
   "metadata": {
    "scrolled": true
   },
   "outputs": [],
   "source": [
    "#fr.head(10)"
   ]
  },
  {
   "cell_type": "code",
   "execution_count": 8,
   "metadata": {},
   "outputs": [],
   "source": [
    "df = pd.read_csv('leads.csv',index_col='ID')"
   ]
  },
  {
   "cell_type": "code",
   "execution_count": 9,
   "metadata": {},
   "outputs": [
    {
     "data": {
      "text/html": [
       "<div>\n",
       "<style scoped>\n",
       "    .dataframe tbody tr th:only-of-type {\n",
       "        vertical-align: middle;\n",
       "    }\n",
       "\n",
       "    .dataframe tbody tr th {\n",
       "        vertical-align: top;\n",
       "    }\n",
       "\n",
       "    .dataframe thead th {\n",
       "        text-align: right;\n",
       "    }\n",
       "</style>\n",
       "<table border=\"1\" class=\"dataframe\">\n",
       "  <thead>\n",
       "    <tr style=\"text-align: right;\">\n",
       "      <th></th>\n",
       "      <th>FirstName</th>\n",
       "      <th>LastName</th>\n",
       "      <th>Company</th>\n",
       "    </tr>\n",
       "    <tr>\n",
       "      <th>ID</th>\n",
       "      <th></th>\n",
       "      <th></th>\n",
       "      <th></th>\n",
       "    </tr>\n",
       "  </thead>\n",
       "  <tbody>\n",
       "    <tr>\n",
       "      <th>1</th>\n",
       "      <td>Ankur</td>\n",
       "      <td>Jain</td>\n",
       "      <td>Rubrik</td>\n",
       "    </tr>\n",
       "    <tr>\n",
       "      <th>2</th>\n",
       "      <td>Shibin</td>\n",
       "      <td>Nambiar</td>\n",
       "      <td>Rubrik</td>\n",
       "    </tr>\n",
       "    <tr>\n",
       "      <th>3</th>\n",
       "      <td>Harsh</td>\n",
       "      <td>Salekar</td>\n",
       "      <td>Infosys</td>\n",
       "    </tr>\n",
       "    <tr>\n",
       "      <th>4</th>\n",
       "      <td>Udayan</td>\n",
       "      <td>Birajdar</td>\n",
       "      <td>Santa Clara University</td>\n",
       "    </tr>\n",
       "    <tr>\n",
       "      <th>5</th>\n",
       "      <td>Tanmay</td>\n",
       "      <td>Wagh</td>\n",
       "      <td>Santa Clara University</td>\n",
       "    </tr>\n",
       "    <tr>\n",
       "      <th>6</th>\n",
       "      <td>jayesh</td>\n",
       "      <td>Patil</td>\n",
       "      <td>Ancestry</td>\n",
       "    </tr>\n",
       "    <tr>\n",
       "      <th>7</th>\n",
       "      <td>Prajakta</td>\n",
       "      <td>Pingale</td>\n",
       "      <td>Santa Clara University</td>\n",
       "    </tr>\n",
       "    <tr>\n",
       "      <th>8</th>\n",
       "      <td>Hasan</td>\n",
       "      <td>Khan</td>\n",
       "      <td>Grabango</td>\n",
       "    </tr>\n",
       "    <tr>\n",
       "      <th>9</th>\n",
       "      <td>Sherry</td>\n",
       "      <td>Zhang</td>\n",
       "      <td>Levi Strauss &amp; Co.</td>\n",
       "    </tr>\n",
       "    <tr>\n",
       "      <th>10</th>\n",
       "      <td>Daria</td>\n",
       "      <td>Saha</td>\n",
       "      <td>Sequoia Capital</td>\n",
       "    </tr>\n",
       "  </tbody>\n",
       "</table>\n",
       "</div>"
      ],
      "text/plain": [
       "   FirstName  LastName                 Company\n",
       "ID                                            \n",
       "1      Ankur      Jain                  Rubrik\n",
       "2     Shibin   Nambiar                  Rubrik\n",
       "3      Harsh   Salekar                 Infosys\n",
       "4     Udayan  Birajdar  Santa Clara University\n",
       "5     Tanmay      Wagh  Santa Clara University\n",
       "6     jayesh     Patil                Ancestry\n",
       "7   Prajakta   Pingale  Santa Clara University\n",
       "8      Hasan      Khan                Grabango\n",
       "9     Sherry     Zhang      Levi Strauss & Co.\n",
       "10     Daria      Saha         Sequoia Capital"
      ]
     },
     "execution_count": 9,
     "metadata": {},
     "output_type": "execute_result"
    }
   ],
   "source": [
    "df.head(10)"
   ]
  },
  {
   "cell_type": "code",
   "execution_count": 10,
   "metadata": {},
   "outputs": [],
   "source": [
    "df['Name']=df['FirstName']+' '+df['LastName']"
   ]
  },
  {
   "cell_type": "code",
   "execution_count": 11,
   "metadata": {},
   "outputs": [
    {
     "data": {
      "text/html": [
       "<div>\n",
       "<style scoped>\n",
       "    .dataframe tbody tr th:only-of-type {\n",
       "        vertical-align: middle;\n",
       "    }\n",
       "\n",
       "    .dataframe tbody tr th {\n",
       "        vertical-align: top;\n",
       "    }\n",
       "\n",
       "    .dataframe thead th {\n",
       "        text-align: right;\n",
       "    }\n",
       "</style>\n",
       "<table border=\"1\" class=\"dataframe\">\n",
       "  <thead>\n",
       "    <tr style=\"text-align: right;\">\n",
       "      <th></th>\n",
       "      <th>FirstName</th>\n",
       "      <th>LastName</th>\n",
       "      <th>Company</th>\n",
       "      <th>Name</th>\n",
       "    </tr>\n",
       "    <tr>\n",
       "      <th>ID</th>\n",
       "      <th></th>\n",
       "      <th></th>\n",
       "      <th></th>\n",
       "      <th></th>\n",
       "    </tr>\n",
       "  </thead>\n",
       "  <tbody>\n",
       "    <tr>\n",
       "      <th>1</th>\n",
       "      <td>Ankur</td>\n",
       "      <td>Jain</td>\n",
       "      <td>Rubrik</td>\n",
       "      <td>Ankur Jain</td>\n",
       "    </tr>\n",
       "    <tr>\n",
       "      <th>2</th>\n",
       "      <td>Shibin</td>\n",
       "      <td>Nambiar</td>\n",
       "      <td>Rubrik</td>\n",
       "      <td>Shibin Nambiar</td>\n",
       "    </tr>\n",
       "    <tr>\n",
       "      <th>3</th>\n",
       "      <td>Harsh</td>\n",
       "      <td>Salekar</td>\n",
       "      <td>Infosys</td>\n",
       "      <td>Harsh Salekar</td>\n",
       "    </tr>\n",
       "    <tr>\n",
       "      <th>4</th>\n",
       "      <td>Udayan</td>\n",
       "      <td>Birajdar</td>\n",
       "      <td>Santa Clara University</td>\n",
       "      <td>Udayan Birajdar</td>\n",
       "    </tr>\n",
       "    <tr>\n",
       "      <th>5</th>\n",
       "      <td>Tanmay</td>\n",
       "      <td>Wagh</td>\n",
       "      <td>Santa Clara University</td>\n",
       "      <td>Tanmay Wagh</td>\n",
       "    </tr>\n",
       "  </tbody>\n",
       "</table>\n",
       "</div>"
      ],
      "text/plain": [
       "   FirstName  LastName                 Company             Name\n",
       "ID                                                             \n",
       "1      Ankur      Jain                  Rubrik       Ankur Jain\n",
       "2     Shibin   Nambiar                  Rubrik   Shibin Nambiar\n",
       "3      Harsh   Salekar                 Infosys    Harsh Salekar\n",
       "4     Udayan  Birajdar  Santa Clara University  Udayan Birajdar\n",
       "5     Tanmay      Wagh  Santa Clara University      Tanmay Wagh"
      ]
     },
     "execution_count": 11,
     "metadata": {},
     "output_type": "execute_result"
    }
   ],
   "source": [
    "df.head()"
   ]
  },
  {
   "cell_type": "code",
   "execution_count": 12,
   "metadata": {},
   "outputs": [],
   "source": [
    "names=df[\"Name\"].iloc[:].values\n",
    "companies=df[\"Company\"].iloc[:].values"
   ]
  },
  {
   "cell_type": "code",
   "execution_count": 13,
   "metadata": {},
   "outputs": [],
   "source": [
    "from googlesearch import search \n",
    "\n"
   ]
  },
  {
   "cell_type": "code",
   "execution_count": 14,
   "metadata": {},
   "outputs": [
    {
     "name": "stdout",
     "output_type": "stream",
     "text": [
      "Query to search: site:linkedin.com/in/ Ankur Jain Rubrik\n",
      "LinkedIn URL: https://www.linkedin.com/in/ankur-jain-81634914\n",
      "Query to search: site:linkedin.com/in/ Shibin Nambiar Rubrik\n",
      "LinkedIn URL: https://www.linkedin.com/in/shibinnambiar\n",
      "Query to search: site:linkedin.com/in/ Harsh Salekar Infosys\n",
      "LinkedIn URL: https://in.linkedin.com/in/harsh-salekar-75923a147\n",
      "Query to search: site:linkedin.com/in/ Udayan Birajdar Santa Clara University\n",
      "LinkedIn URL: https://www.linkedin.com/in/udayanbirajdar\n",
      "Query to search: site:linkedin.com/in/ Tanmay Wagh Santa Clara University\n",
      "LinkedIn URL: https://www.linkedin.com/in/tanmaywagh30\n",
      "Query to search: site:linkedin.com/in/ jayesh Patil Ancestry\n",
      "LinkedIn URL: https://www.linkedin.com/in/j-patil\n",
      "Query to search: site:linkedin.com/in/ Prajakta Pingale Santa Clara University\n",
      "LinkedIn URL: https://www.linkedin.com/in/prajakta-pingale\n",
      "Query to search: site:linkedin.com/in/ Hasan Khan Grabango\n",
      "LinkedIn URL: https://www.linkedin.com/in/hasan-khan-8296b2b2\n",
      "Query to search: site:linkedin.com/in/ Sherry Zhang Levi Strauss & Co.\n",
      "LinkedIn URL: https://www.linkedin.com/in/sherry-zhang-6a319785\n",
      "Query to search: site:linkedin.com/in/ Daria Saha Sequoia Capital\n",
      "LinkedIn URL: https://www.linkedin.com/in/daria-saha-62095085\n",
      "Query to search: site:linkedin.com/in/ Xiaolu Zhao IDEAS\n",
      "LinkedIn URL: https://www.linkedin.com/in/xiaolu-lucy-zhao-a6071742\n"
     ]
    }
   ],
   "source": [
    "# to search \n",
    "col_name=1\n",
    "col_company_name=8\n",
    "col_person_link=11\n",
    "links=[]\n",
    "for i in range(len(companies)):\n",
    "    query = 'site:linkedin.com/in/'+\" \" + names[i] +\" \"+ companies[i] \n",
    "    \n",
    "    print(\"Query to search:\",query)\n",
    "    person_name=names[i]\n",
    "    company_name=companies[i]\n",
    "    for url in search(query, tld=\"co.in\", num=1, stop=1,pause=5): \n",
    "        person_link=url\n",
    "        print(\"LinkedIn URL:\",person_link)\n",
    "        results.cell(row=i+2, column=col_name).value = person_name\n",
    "        results.cell(row=i+2, column=col_company_name).value = company_name\n",
    "        results.cell(row=i+2, column=col_person_link).value = person_link\n",
    "        links.append(person_link)\n",
    "        \n",
    "\n"
   ]
  },
  {
   "cell_type": "code",
   "execution_count": 17,
   "metadata": {},
   "outputs": [],
   "source": [
    "res.save(filename='results_file.xlsx')"
   ]
  },
  {
   "cell_type": "code",
   "execution_count": 18,
   "metadata": {},
   "outputs": [],
   "source": [
    "%run \"parameters.py\""
   ]
  },
  {
   "cell_type": "code",
   "execution_count": 19,
   "metadata": {},
   "outputs": [],
   "source": [
    "import parameters"
   ]
  },
  {
   "cell_type": "code",
   "execution_count": 20,
   "metadata": {},
   "outputs": [
    {
     "data": {
      "text/plain": [
       "151"
      ]
     },
     "execution_count": 20,
     "metadata": {},
     "output_type": "execute_result"
    }
   ],
   "source": [
    "# defining new variable passing two parameters\n",
    "writer = csv.writer(open(parameters.file_name, 'w'))\n",
    "\n",
    "# writerow() method to the write to the file object\n",
    "writer.writerow([\"Name\", \"Job_Title\",\"Previous_Job_title\",\"Honors_Awards\",\"Person_Location\",\"College\",\"Qualification\", \"Company\",\"CompanyIndustry\",\"Founded\",\"Person_URL\",\"Company_URL\",\"Location\"])"
   ]
  },
  {
   "cell_type": "code",
   "execution_count": 50,
   "metadata": {},
   "outputs": [],
   "source": [
    "# specifies the path to the chromedriver.exe\n",
    "driver = webdriver.Chrome('E:\\STUDY\\Practicum\\LinkedIn\\chromedriver.exe')"
   ]
  },
  {
   "cell_type": "code",
   "execution_count": 51,
   "metadata": {},
   "outputs": [],
   "source": [
    "# driver.get method() will navigate to a page given by the URL address\n",
    "driver.get('https://www.linkedin.com/login?fromSignIn=true&trk=guest_homepage-basic_nav-header-signin')"
   ]
  },
  {
   "cell_type": "code",
   "execution_count": 52,
   "metadata": {},
   "outputs": [],
   "source": [
    "# locate email form by_class_name\n",
    "username = driver.find_element_by_id('username')\n",
    "\n",
    "\n",
    "# send_keys() to simulate key strokes\n",
    "username.send_keys(parameters.linkedin_username)\n",
    "# sleep for 0.5 seconds\n",
    "time.sleep(0.5)"
   ]
  },
  {
   "cell_type": "code",
   "execution_count": 53,
   "metadata": {},
   "outputs": [],
   "source": [
    "# locate password form by_class_name\n",
    "password = driver.find_element_by_id('password')\n",
    "\n",
    "# send_keys() to simulate key strokes\n",
    "password.send_keys(parameters.linkedin_password)\n",
    "time.sleep(0.5)"
   ]
  },
  {
   "cell_type": "code",
   "execution_count": 54,
   "metadata": {},
   "outputs": [],
   "source": [
    "\n",
    "# locate submit button by_id\n",
    "log_in_button = driver.find_element_by_class_name('login__form_action_container ')\n",
    "\n",
    "# .click() to mimic button click\n",
    "log_in_button.click()"
   ]
  },
  {
   "cell_type": "code",
   "execution_count": 26,
   "metadata": {},
   "outputs": [],
   "source": [
    "from parsel import Selector"
   ]
  },
  {
   "cell_type": "code",
   "execution_count": 27,
   "metadata": {},
   "outputs": [],
   "source": [
    "res.save(filename='results_file.xlsx')"
   ]
  },
  {
   "cell_type": "code",
   "execution_count": null,
   "metadata": {},
   "outputs": [],
   "source": [
    "# col_name=13\n",
    "# curr_title=2\n",
    "# prev_title=3\n",
    "\n",
    "\n",
    "\n",
    "\n",
    "\n",
    "# for i in range(len(links)): #Iterate loop for number of links\n",
    "#     j=0\n",
    "#     driver.get(links[i]) #Landed on LinkedIn profile of the person\n",
    "#     time.sleep(2.5) #Sleep to show that its not automated\n",
    "#     #text=driver.page_source \n",
    "#     sel = Selector(text=driver.page_source) \n",
    "#     person_location = sel.xpath('//*[starts-with(@class, \"t-16 t-black t-normal inline-block\")]/text()').extract_first()\n",
    "#     #title=sel.xpath('//*[starts-with(@class, \"t-14 t-black t-bold\")]/text()').extract_first()\n",
    "#     experience = driver.find_elements_by_css_selector('#experience-section .pv-profile-section')\n",
    "#     employer_title=[]\n",
    "#     for item in experience:\n",
    "#         j+=1\n",
    "#         if(j==3):\n",
    "#             break\n",
    "#         else:\n",
    "# #             print(\"Experience: \",j)\n",
    "#             a=item.text.split('\\n') \n",
    "            \n",
    "#             if(a[0]==\"Company Name\"):\n",
    "#                 employer_title.append((a[1],a[5]))\n",
    "#             else:\n",
    "#                 employer_title.append((a[2],a[0]))\n",
    "#         print(employer_title)\n",
    "#     for k in range(len(employer_title)):\n",
    "#         results.cell(row=i+2, column=curr_title).value = employer_title[0][1]\n",
    "#         results.cell(row=i+2, column=prev_title).value = employer_title[1][1]\n",
    "    \n",
    "    "
   ]
  },
  {
   "cell_type": "code",
   "execution_count": 100,
   "metadata": {},
   "outputs": [
    {
     "name": "stdout",
     "output_type": "stream",
     "text": [
      "0\n",
      "[]\n"
     ]
    }
   ],
   "source": [
    "col_name=13\n",
    "curr_title=2\n",
    "prev_title=3\n",
    "test=['https://www.linkedin.com/in/prajakta-pingale/']\n",
    "\n",
    "\n",
    "\n",
    "for i in range(len(test)): #Iterate loop for number of links\n",
    "    j=0\n",
    "    driver.get(test[i]) #Landed on LinkedIn profile of the person\n",
    "    time.sleep(2.5) #Sleep to show that its not automated\n",
    "    #text=driver.page_source \n",
    "    sel = Selector(text=driver.page_source) \n",
    "    person_location = sel.xpath('//*[starts-with(@class, \"t-16 t-black t-normal inline-block\")]/text()').extract_first()\n",
    "    #title=sel.xpath('//*[starts-with(@class, \"t-14 t-black t-bold\")]/text()').extract_first()\n",
    "    experience = driver.find_elements_by_css_selector('#experience-section .pv-profile-section')\n",
    "    employer_title=[]\n",
    "    print(len(experience))\n",
    "    for item in experience:\n",
    "        \n",
    "        j+=1\n",
    "        if(j==3):\n",
    "            break\n",
    "        else:\n",
    "#             print(\"Experience: \",j)\n",
    "            a=item.text.split('\\n') \n",
    "            \n",
    "            if(a[0]==\"Company Name\"):\n",
    "                employer_title.append((a[1],a[5]))\n",
    "            else:\n",
    "                employer_title.append((a[2],a[0]))\n",
    "    print(employer_title)\n",
    "    for k in range(len(employer_title)):\n",
    "        results.cell(row=i+2, column=curr_title).value = employer_title[0][1]\n",
    "        results.cell(row=i+2, column=prev_title).value = employer_title[1][1]\n",
    "    \n",
    "    "
   ]
  },
  {
   "cell_type": "code",
   "execution_count": null,
   "metadata": {},
   "outputs": [],
   "source": [
    "res.save(filename='results_file.xlsx')"
   ]
  },
  {
   "cell_type": "code",
   "execution_count": null,
   "metadata": {},
   "outputs": [],
   "source": []
  }
 ],
 "metadata": {
  "kernelspec": {
   "display_name": "Python 3",
   "language": "python",
   "name": "python3"
  },
  "language_info": {
   "codemirror_mode": {
    "name": "ipython",
    "version": 3
   },
   "file_extension": ".py",
   "mimetype": "text/x-python",
   "name": "python",
   "nbconvert_exporter": "python",
   "pygments_lexer": "ipython3",
   "version": "3.8.2"
  }
 },
 "nbformat": 4,
 "nbformat_minor": 4
}
