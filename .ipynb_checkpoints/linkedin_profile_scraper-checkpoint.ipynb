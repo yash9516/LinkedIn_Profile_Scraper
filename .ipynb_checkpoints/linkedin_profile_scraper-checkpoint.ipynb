{
 "cells": [
  {
   "cell_type": "code",
   "execution_count": 62,
   "metadata": {},
   "outputs": [
    {
     "name": "stdout",
     "output_type": "stream",
     "text": [
      "Requirement already satisfied: beautifulsoup4 in c:\\programdata\\anaconda3\\envs\\linkedin\\lib\\site-packages (4.9.0)\n",
      "Requirement already satisfied: soupsieve>1.2 in c:\\programdata\\anaconda3\\envs\\linkedin\\lib\\site-packages (from beautifulsoup4) (2.0)\n",
      "Note: you may need to restart the kernel to use updated packages.\n"
     ]
    }
   ],
   "source": [
    "pip install beautifulsoup4"
   ]
  },
  {
   "cell_type": "code",
   "execution_count": 63,
   "metadata": {},
   "outputs": [],
   "source": [
    "import selenium\n",
    "# import ipython\n",
    "import time\n",
    "import parsel\n",
    "import csv\n",
    "\n",
    "import pandas as pd"
   ]
  },
  {
   "cell_type": "code",
   "execution_count": 64,
   "metadata": {},
   "outputs": [],
   "source": [
    "# import web driver\n",
    "from selenium import webdriver\n",
    "\n",
    "\n"
   ]
  },
  {
   "cell_type": "code",
   "execution_count": 65,
   "metadata": {
    "scrolled": true
   },
   "outputs": [],
   "source": [
    "#dfr = pd.read_csv('results_file.csv')"
   ]
  },
  {
   "cell_type": "code",
   "execution_count": 66,
   "metadata": {},
   "outputs": [],
   "source": [
    "import openpyxl\n"
   ]
  },
  {
   "cell_type": "code",
   "execution_count": 67,
   "metadata": {},
   "outputs": [],
   "source": [
    "res = openpyxl.load_workbook(filename='results_file.xlsx')\n",
    "results = res.worksheets[0]\n"
   ]
  },
  {
   "cell_type": "code",
   "execution_count": 68,
   "metadata": {
    "scrolled": true
   },
   "outputs": [],
   "source": [
    "#fr.head(10)"
   ]
  },
  {
   "cell_type": "code",
   "execution_count": 69,
   "metadata": {},
   "outputs": [],
   "source": [
    "df = pd.read_csv('leads.csv',index_col='ID')"
   ]
  },
  {
   "cell_type": "code",
   "execution_count": 70,
   "metadata": {},
   "outputs": [
    {
     "data": {
      "text/html": [
       "<div>\n",
       "<style scoped>\n",
       "    .dataframe tbody tr th:only-of-type {\n",
       "        vertical-align: middle;\n",
       "    }\n",
       "\n",
       "    .dataframe tbody tr th {\n",
       "        vertical-align: top;\n",
       "    }\n",
       "\n",
       "    .dataframe thead th {\n",
       "        text-align: right;\n",
       "    }\n",
       "</style>\n",
       "<table border=\"1\" class=\"dataframe\">\n",
       "  <thead>\n",
       "    <tr style=\"text-align: right;\">\n",
       "      <th></th>\n",
       "      <th>FirstName</th>\n",
       "      <th>LastName</th>\n",
       "      <th>Company</th>\n",
       "    </tr>\n",
       "    <tr>\n",
       "      <th>ID</th>\n",
       "      <th></th>\n",
       "      <th></th>\n",
       "      <th></th>\n",
       "    </tr>\n",
       "  </thead>\n",
       "  <tbody>\n",
       "    <tr>\n",
       "      <th>1</th>\n",
       "      <td>Yash</td>\n",
       "      <td>Kamdar</td>\n",
       "      <td>Santa Clara University</td>\n",
       "    </tr>\n",
       "    <tr>\n",
       "      <th>2</th>\n",
       "      <td>Harsh</td>\n",
       "      <td>Salekar</td>\n",
       "      <td>Infosys</td>\n",
       "    </tr>\n",
       "    <tr>\n",
       "      <th>3</th>\n",
       "      <td>Udayan</td>\n",
       "      <td>Birajdar</td>\n",
       "      <td>Santa Clara University</td>\n",
       "    </tr>\n",
       "    <tr>\n",
       "      <th>4</th>\n",
       "      <td>Tanmay</td>\n",
       "      <td>Wagh</td>\n",
       "      <td>Santa Clara University</td>\n",
       "    </tr>\n",
       "    <tr>\n",
       "      <th>5</th>\n",
       "      <td>jayesh</td>\n",
       "      <td>Patil</td>\n",
       "      <td>Ancestry</td>\n",
       "    </tr>\n",
       "  </tbody>\n",
       "</table>\n",
       "</div>"
      ],
      "text/plain": [
       "   FirstName  LastName                 Company\n",
       "ID                                            \n",
       "1       Yash    Kamdar  Santa Clara University\n",
       "2      Harsh   Salekar                 Infosys\n",
       "3     Udayan  Birajdar  Santa Clara University\n",
       "4     Tanmay      Wagh  Santa Clara University\n",
       "5     jayesh     Patil                Ancestry"
      ]
     },
     "execution_count": 70,
     "metadata": {},
     "output_type": "execute_result"
    }
   ],
   "source": [
    "df.head(10)"
   ]
  },
  {
   "cell_type": "code",
   "execution_count": 71,
   "metadata": {},
   "outputs": [],
   "source": [
    "df['Name']=df['FirstName']+' '+df['LastName']"
   ]
  },
  {
   "cell_type": "code",
   "execution_count": 72,
   "metadata": {},
   "outputs": [
    {
     "data": {
      "text/html": [
       "<div>\n",
       "<style scoped>\n",
       "    .dataframe tbody tr th:only-of-type {\n",
       "        vertical-align: middle;\n",
       "    }\n",
       "\n",
       "    .dataframe tbody tr th {\n",
       "        vertical-align: top;\n",
       "    }\n",
       "\n",
       "    .dataframe thead th {\n",
       "        text-align: right;\n",
       "    }\n",
       "</style>\n",
       "<table border=\"1\" class=\"dataframe\">\n",
       "  <thead>\n",
       "    <tr style=\"text-align: right;\">\n",
       "      <th></th>\n",
       "      <th>FirstName</th>\n",
       "      <th>LastName</th>\n",
       "      <th>Company</th>\n",
       "      <th>Name</th>\n",
       "    </tr>\n",
       "    <tr>\n",
       "      <th>ID</th>\n",
       "      <th></th>\n",
       "      <th></th>\n",
       "      <th></th>\n",
       "      <th></th>\n",
       "    </tr>\n",
       "  </thead>\n",
       "  <tbody>\n",
       "    <tr>\n",
       "      <th>1</th>\n",
       "      <td>Yash</td>\n",
       "      <td>Kamdar</td>\n",
       "      <td>Santa Clara University</td>\n",
       "      <td>Yash Kamdar</td>\n",
       "    </tr>\n",
       "    <tr>\n",
       "      <th>2</th>\n",
       "      <td>Harsh</td>\n",
       "      <td>Salekar</td>\n",
       "      <td>Infosys</td>\n",
       "      <td>Harsh Salekar</td>\n",
       "    </tr>\n",
       "    <tr>\n",
       "      <th>3</th>\n",
       "      <td>Udayan</td>\n",
       "      <td>Birajdar</td>\n",
       "      <td>Santa Clara University</td>\n",
       "      <td>Udayan Birajdar</td>\n",
       "    </tr>\n",
       "    <tr>\n",
       "      <th>4</th>\n",
       "      <td>Tanmay</td>\n",
       "      <td>Wagh</td>\n",
       "      <td>Santa Clara University</td>\n",
       "      <td>Tanmay Wagh</td>\n",
       "    </tr>\n",
       "    <tr>\n",
       "      <th>5</th>\n",
       "      <td>jayesh</td>\n",
       "      <td>Patil</td>\n",
       "      <td>Ancestry</td>\n",
       "      <td>jayesh Patil</td>\n",
       "    </tr>\n",
       "  </tbody>\n",
       "</table>\n",
       "</div>"
      ],
      "text/plain": [
       "   FirstName  LastName                 Company             Name\n",
       "ID                                                             \n",
       "1       Yash    Kamdar  Santa Clara University      Yash Kamdar\n",
       "2      Harsh   Salekar                 Infosys    Harsh Salekar\n",
       "3     Udayan  Birajdar  Santa Clara University  Udayan Birajdar\n",
       "4     Tanmay      Wagh  Santa Clara University      Tanmay Wagh\n",
       "5     jayesh     Patil                Ancestry     jayesh Patil"
      ]
     },
     "execution_count": 72,
     "metadata": {},
     "output_type": "execute_result"
    }
   ],
   "source": [
    "df.head()"
   ]
  },
  {
   "cell_type": "code",
   "execution_count": 75,
   "metadata": {},
   "outputs": [],
   "source": [
    "#query = 'site:linkedin.com/in/'+\" \" + \"Ankur Jain\" +\" \"+ \"Rubrik\"\n",
    "#for url in search(query, tld=\"co.in\", num=1, stop=1,pause=5):\n",
    "  # ankur_url=url\n",
    "   # print(ankur_url)"
   ]
  },
  {
   "cell_type": "code",
   "execution_count": 73,
   "metadata": {},
   "outputs": [],
   "source": [
    "names=df[\"Name\"].iloc[:].values\n",
    "companies=df[\"Company\"].iloc[:].values"
   ]
  },
  {
   "cell_type": "code",
   "execution_count": 74,
   "metadata": {},
   "outputs": [],
   "source": [
    "from googlesearch import search \n",
    "\n"
   ]
  },
  {
   "cell_type": "code",
   "execution_count": 76,
   "metadata": {},
   "outputs": [
    {
     "name": "stdout",
     "output_type": "stream",
     "text": [
      "Query to search: site:linkedin.com/in/ Yash Kamdar Santa Clara University\n",
      "LinkedIn URL: https://www.linkedin.com/in/yash-kamdar95\n",
      "Query to search: site:linkedin.com/in/ Harsh Salekar Infosys\n",
      "LinkedIn URL: https://in.linkedin.com/in/harsh-salekar-75923a147\n",
      "Query to search: site:linkedin.com/in/ Udayan Birajdar Santa Clara University\n",
      "LinkedIn URL: https://www.linkedin.com/in/udayanbirajdar\n",
      "Query to search: site:linkedin.com/in/ Tanmay Wagh Santa Clara University\n",
      "LinkedIn URL: https://www.linkedin.com/in/tanmaywagh30\n",
      "Query to search: site:linkedin.com/in/ jayesh Patil Ancestry\n",
      "LinkedIn URL: https://www.linkedin.com/in/j-patil\n"
     ]
    }
   ],
   "source": [
    "# to search \n",
    "col_name=1\n",
    "col_company_name=8\n",
    "col_person_link=11\n",
    "\n",
    "for i in range(len(companies)):\n",
    "    query = 'site:linkedin.com/in/'+\" \" + names[i] +\" \"+ companies[i] \n",
    "    \n",
    "    print(\"Query to search:\",query)\n",
    "    person_name=names[i]\n",
    "    company_name=companies[i]\n",
    "    for url in search(query, tld=\"co.in\", num=1, stop=1,pause=5): \n",
    "        person_link=url\n",
    "        print(\"LinkedIn URL:\",person_link)\n",
    "        results.cell(row=i+2, column=col_name).value = person_name\n",
    "        results.cell(row=i+2, column=col_company_name).value = company_name\n",
    "        results.cell(row=i+2, column=col_person_link).value = person_link\n",
    "        \n",
    "\n"
   ]
  },
  {
   "cell_type": "code",
   "execution_count": 77,
   "metadata": {},
   "outputs": [],
   "source": [
    "res.save(filename='results_file.xlsx')"
   ]
  },
  {
   "cell_type": "code",
   "execution_count": 78,
   "metadata": {},
   "outputs": [],
   "source": [
    "%run \"parameters.py\""
   ]
  },
  {
   "cell_type": "code",
   "execution_count": 79,
   "metadata": {},
   "outputs": [],
   "source": [
    "import parameters"
   ]
  },
  {
   "cell_type": "code",
   "execution_count": 82,
   "metadata": {},
   "outputs": [
    {
     "data": {
      "text/plain": [
       "151"
      ]
     },
     "execution_count": 82,
     "metadata": {},
     "output_type": "execute_result"
    }
   ],
   "source": [
    "# defining new variable passing two parameters\n",
    "writer = csv.writer(open(parameters.file_name, 'w'))\n",
    "\n",
    "# writerow() method to the write to the file object\n",
    "writer.writerow([\"Name\", \"Job_Title\",\"Previous_Job_title\",\"Honors_Awards\",\"Person_Location\",\"College\",\"Qualification\", \"Company\",\"CompanyIndustry\",\"Founded\",\"Person_URL\",\"Company_URL\",\"Location\"])"
   ]
  },
  {
   "cell_type": "code",
   "execution_count": 97,
   "metadata": {},
   "outputs": [],
   "source": [
    "# specifies the path to the chromedriver.exe\n",
    "driver = webdriver.Chrome('E:\\STUDY\\Practicum\\LinkedIn\\chromedriver.exe')"
   ]
  },
  {
   "cell_type": "code",
   "execution_count": 98,
   "metadata": {},
   "outputs": [],
   "source": [
    "# driver.get method() will navigate to a page given by the URL address\n",
    "driver.get('https://www.linkedin.com/login?fromSignIn=true&trk=guest_homepage-basic_nav-header-signin')"
   ]
  },
  {
   "cell_type": "code",
   "execution_count": 99,
   "metadata": {},
   "outputs": [],
   "source": [
    "# locate email form by_class_name\n",
    "username = driver.find_element_by_id('username')\n",
    "\n",
    "\n",
    "# send_keys() to simulate key strokes\n",
    "username.send_keys(parameters.linkedin_username)\n",
    "# sleep for 0.5 seconds\n",
    "time.sleep(0.5)"
   ]
  },
  {
   "cell_type": "code",
   "execution_count": 100,
   "metadata": {},
   "outputs": [],
   "source": [
    "# locate password form by_class_name\n",
    "password = driver.find_element_by_id('password')\n",
    "\n",
    "# send_keys() to simulate key strokes\n",
    "password.send_keys(parameters.linkedin_password)\n",
    "time.sleep(0.5)"
   ]
  },
  {
   "cell_type": "code",
   "execution_count": 101,
   "metadata": {},
   "outputs": [],
   "source": [
    "\n",
    "# locate submit button by_id\n",
    "log_in_button = driver.find_element_by_class_name('login__form_action_container ')\n",
    "\n",
    "# .click() to mimic button click\n",
    "log_in_button.click()"
   ]
  },
  {
   "cell_type": "code",
   "execution_count": 102,
   "metadata": {},
   "outputs": [],
   "source": [
    "data_xls = pd.read_excel('results_file.xlsx', sheet_name='results_file',dtype=str, index_col=None)"
   ]
  },
  {
   "cell_type": "code",
   "execution_count": 103,
   "metadata": {},
   "outputs": [],
   "source": [
    "data_xls.to_csv('results_file.csv', encoding='utf-8', index=False)"
   ]
  },
  {
   "cell_type": "code",
   "execution_count": 104,
   "metadata": {},
   "outputs": [],
   "source": [
    "dfr = pd.read_csv('results_file.csv')"
   ]
  },
  {
   "cell_type": "code",
   "execution_count": 105,
   "metadata": {},
   "outputs": [
    {
     "data": {
      "text/html": [
       "<div>\n",
       "<style scoped>\n",
       "    .dataframe tbody tr th:only-of-type {\n",
       "        vertical-align: middle;\n",
       "    }\n",
       "\n",
       "    .dataframe tbody tr th {\n",
       "        vertical-align: top;\n",
       "    }\n",
       "\n",
       "    .dataframe thead th {\n",
       "        text-align: right;\n",
       "    }\n",
       "</style>\n",
       "<table border=\"1\" class=\"dataframe\">\n",
       "  <thead>\n",
       "    <tr style=\"text-align: right;\">\n",
       "      <th></th>\n",
       "      <th>Name</th>\n",
       "      <th>Job_Title</th>\n",
       "      <th>Previous_Job_title</th>\n",
       "      <th>Honors_Awards</th>\n",
       "      <th>Person_Location</th>\n",
       "      <th>College</th>\n",
       "      <th>Qualification</th>\n",
       "      <th>Company</th>\n",
       "      <th>CompanyIndustry</th>\n",
       "      <th>Founded</th>\n",
       "      <th>Person_URL</th>\n",
       "      <th>Company_URL</th>\n",
       "    </tr>\n",
       "  </thead>\n",
       "  <tbody>\n",
       "    <tr>\n",
       "      <th>0</th>\n",
       "      <td>Yash Kamdar</td>\n",
       "      <td>NaN</td>\n",
       "      <td>NaN</td>\n",
       "      <td>NaN</td>\n",
       "      <td>NaN</td>\n",
       "      <td>NaN</td>\n",
       "      <td>NaN</td>\n",
       "      <td>Santa Clara University</td>\n",
       "      <td>NaN</td>\n",
       "      <td>NaN</td>\n",
       "      <td>https://www.linkedin.com/in/yash-kamdar95</td>\n",
       "      <td>NaN</td>\n",
       "    </tr>\n",
       "    <tr>\n",
       "      <th>1</th>\n",
       "      <td>Harsh Salekar</td>\n",
       "      <td>NaN</td>\n",
       "      <td>NaN</td>\n",
       "      <td>NaN</td>\n",
       "      <td>NaN</td>\n",
       "      <td>NaN</td>\n",
       "      <td>NaN</td>\n",
       "      <td>Infosys</td>\n",
       "      <td>NaN</td>\n",
       "      <td>NaN</td>\n",
       "      <td>https://in.linkedin.com/in/harsh-salekar-75923...</td>\n",
       "      <td>NaN</td>\n",
       "    </tr>\n",
       "    <tr>\n",
       "      <th>2</th>\n",
       "      <td>Udayan Birajdar</td>\n",
       "      <td>NaN</td>\n",
       "      <td>NaN</td>\n",
       "      <td>NaN</td>\n",
       "      <td>NaN</td>\n",
       "      <td>NaN</td>\n",
       "      <td>NaN</td>\n",
       "      <td>Santa Clara University</td>\n",
       "      <td>NaN</td>\n",
       "      <td>NaN</td>\n",
       "      <td>https://www.linkedin.com/in/udayanbirajdar</td>\n",
       "      <td>NaN</td>\n",
       "    </tr>\n",
       "    <tr>\n",
       "      <th>3</th>\n",
       "      <td>Tanmay Wagh</td>\n",
       "      <td>NaN</td>\n",
       "      <td>NaN</td>\n",
       "      <td>NaN</td>\n",
       "      <td>NaN</td>\n",
       "      <td>NaN</td>\n",
       "      <td>NaN</td>\n",
       "      <td>Santa Clara University</td>\n",
       "      <td>NaN</td>\n",
       "      <td>NaN</td>\n",
       "      <td>https://www.linkedin.com/in/tanmaywagh30</td>\n",
       "      <td>NaN</td>\n",
       "    </tr>\n",
       "    <tr>\n",
       "      <th>4</th>\n",
       "      <td>jayesh Patil</td>\n",
       "      <td>NaN</td>\n",
       "      <td>NaN</td>\n",
       "      <td>NaN</td>\n",
       "      <td>NaN</td>\n",
       "      <td>NaN</td>\n",
       "      <td>NaN</td>\n",
       "      <td>Ancestry</td>\n",
       "      <td>NaN</td>\n",
       "      <td>NaN</td>\n",
       "      <td>https://www.linkedin.com/in/j-patil</td>\n",
       "      <td>NaN</td>\n",
       "    </tr>\n",
       "  </tbody>\n",
       "</table>\n",
       "</div>"
      ],
      "text/plain": [
       "              Name  Job_Title  Previous_Job_title  Honors_Awards  \\\n",
       "0      Yash Kamdar        NaN                 NaN            NaN   \n",
       "1    Harsh Salekar        NaN                 NaN            NaN   \n",
       "2  Udayan Birajdar        NaN                 NaN            NaN   \n",
       "3      Tanmay Wagh        NaN                 NaN            NaN   \n",
       "4     jayesh Patil        NaN                 NaN            NaN   \n",
       "\n",
       "   Person_Location  College  Qualification                 Company  \\\n",
       "0              NaN      NaN            NaN  Santa Clara University   \n",
       "1              NaN      NaN            NaN                 Infosys   \n",
       "2              NaN      NaN            NaN  Santa Clara University   \n",
       "3              NaN      NaN            NaN  Santa Clara University   \n",
       "4              NaN      NaN            NaN                Ancestry   \n",
       "\n",
       "   CompanyIndustry  Founded  \\\n",
       "0              NaN      NaN   \n",
       "1              NaN      NaN   \n",
       "2              NaN      NaN   \n",
       "3              NaN      NaN   \n",
       "4              NaN      NaN   \n",
       "\n",
       "                                          Person_URL  Company_URL  \n",
       "0          https://www.linkedin.com/in/yash-kamdar95          NaN  \n",
       "1  https://in.linkedin.com/in/harsh-salekar-75923...          NaN  \n",
       "2         https://www.linkedin.com/in/udayanbirajdar          NaN  \n",
       "3           https://www.linkedin.com/in/tanmaywagh30          NaN  \n",
       "4                https://www.linkedin.com/in/j-patil          NaN  "
      ]
     },
     "execution_count": 105,
     "metadata": {},
     "output_type": "execute_result"
    }
   ],
   "source": [
    "dfr.head()"
   ]
  },
  {
   "cell_type": "code",
   "execution_count": 107,
   "metadata": {},
   "outputs": [
    {
     "data": {
      "text/plain": [
       "array(['https://www.linkedin.com/in/yash-kamdar95',\n",
       "       'https://in.linkedin.com/in/harsh-salekar-75923a147',\n",
       "       'https://www.linkedin.com/in/udayanbirajdar',\n",
       "       'https://www.linkedin.com/in/tanmaywagh30',\n",
       "       'https://www.linkedin.com/in/j-patil'], dtype=object)"
      ]
     },
     "execution_count": 107,
     "metadata": {},
     "output_type": "execute_result"
    }
   ],
   "source": [
    "# driver.get method() will navigate to a page given by the URL address\n",
    "links=dfr['Person_URL'].iloc[:].values\n",
    "links"
   ]
  },
  {
   "cell_type": "code",
   "execution_count": 234,
   "metadata": {},
   "outputs": [],
   "source": [
    "# driver.get method() will navigate to a page given by the URL address\n",
    "\n"
   ]
  },
  {
   "cell_type": "code",
   "execution_count": 108,
   "metadata": {},
   "outputs": [],
   "source": [
    "from parsel import Selector"
   ]
  },
  {
   "cell_type": "code",
   "execution_count": 252,
   "metadata": {},
   "outputs": [],
   "source": [
    "# col_name=13\n",
    "# curr_title=2\n",
    "# prev_title=3\n",
    "# j=0;\n",
    "# test=[]on\n",
    "# for i in range(len(links)): #Iterate loop for number of links\n",
    "    \n",
    "#     driver.get(links[i]) #Landed on LinkedIn profile of the person\n",
    "#     time.sleep(2.5) #Sleep to show that its not automated\n",
    "#     text=driver.page_source \n",
    "#     sel = Selector(text) \n",
    "#     person_location = sel.xpath('//*[starts-with(@class, \"t-16 t-black t-normal inline-block\")]/text()').extract_first()\n",
    "#     #title=sel.xpath('//*[starts-with(@class, \"t-14 t-black t-bold\")]/text()').extract_first()\n",
    "#     experience = driver.find_elements_by_css_selector('#experience-section .pv-profile-section')\n",
    "#     for item in experience:\n",
    "#         a=item.text.split('\\n')\n",
    "        \n",
    "#         if(j==0):\n",
    "#             if \"India\" not in (a[8]):\n",
    "#                 titles=a[5])\n",
    "#                 print(titles)\n",
    "#                 results.cell(row=i+2, column=curr_title).value = titles\n",
    "#                 j=j+1\n",
    "#             else:\n",
    "#                 titles.append(a[0])\n",
    "#                 results.cell(row=i+2, column=curr_title).value = titles\n",
    "#                 j=j+1\n",
    "                \n",
    "#         elif(j>1):\n",
    "#             break\n",
    "#         else:\n",
    "#             titles.append(a[0])\n",
    "#             print(titles)\n",
    "#             results.cell(row=i+2, column=prev_title).value = titles\n",
    "#             j=j+1\n",
    "    \n",
    "#     if person_location:\n",
    "#         location = person_location.strip()\n",
    "#         results.cell(row=i+2, column=col_name).value = person_location\n",
    "        \n",
    "    \n",
    "    "
   ]
  },
  {
   "cell_type": "code",
   "execution_count": 281,
   "metadata": {},
   "outputs": [],
   "source": [
    "# col_name=13\n",
    "# curr_title=2\n",
    "# prev_title=3\n",
    "# j=0;\n",
    "# test=[]\n",
    "# #for i in range(len(links)):\n",
    "    \n",
    "# driver.get(ankur_url)\n",
    "# time.sleep(2.5)\n",
    "# driver.page_source \n",
    "# sel = Selector(text=driver.page_source) \n",
    "# person_location = sel.xpath('//*[starts-with(@class, \"t-16 t-black t-normal inline-block\")]/text()').extract_first()\n",
    "# #title=sel.xpath('//*[starts-with(@class, \"t-14 t-black t-bold\")]/text()').extract_first()\n",
    "# experience = driver.find_elements_by_css_selector('#experience-section .pv-profile-section')\n",
    "# for item in experience:\n",
    "#     a=item.text.split('\\n')\n",
    "\n",
    "#     if(j==0):\n",
    "#         if \"India\" not in (a[8]):\n",
    "#             titles=a[5]\n",
    "#             print(titles)\n",
    "#             results.cell(row=20, column=curr_title).value = titles\n",
    "#             j=j+1\n",
    "#         else:\n",
    "#             titles=a[0]\n",
    "#             results.cell(row=20, column=curr_title).value = titles\n",
    "#             j=j+1\n",
    "\n",
    "#     elif(j>1):\n",
    "#         break\n",
    "#     else:\n",
    "#         titles.append(a[0])\n",
    "#         print(titles)\n",
    "#         results.cell(row=20, column=prev_title).value = titles\n",
    "#         j=j+1\n",
    "\n",
    "# if person_location:\n",
    "#     location = person_location.strip()\n",
    "#     results.cell(row=20, column=col_name).value = person_location\n",
    "\n",
    "\n"
   ]
  },
  {
   "cell_type": "code",
   "execution_count": 109,
   "metadata": {},
   "outputs": [],
   "source": [
    "res.save(filename='results_file.xlsx')"
   ]
  },
  {
   "cell_type": "code",
   "execution_count": 134,
   "metadata": {},
   "outputs": [
    {
     "name": "stdout",
     "output_type": "stream",
     "text": [
      "[]\n"
     ]
    }
   ],
   "source": [
    "#title=sel.xpath('//*[starts-with(@class, \"visually-hidden\")]/span/text()').getall()\n",
    "#print(title)"
   ]
  },
  {
   "cell_type": "code",
   "execution_count": 244,
   "metadata": {},
   "outputs": [
    {
     "name": "stdout",
     "output_type": "stream",
     "text": [
      "[]\n"
     ]
    }
   ],
   "source": [
    "print(test)"
   ]
  },
  {
   "cell_type": "markdown",
   "metadata": {},
   "source": [
    "Yash modified 27th may"
   ]
  },
  {
   "cell_type": "code",
   "execution_count": null,
   "metadata": {},
   "outputs": [],
   "source": [
    "col_name=13\n",
    "curr_title=2\n",
    "prev_title=3\n",
    "j=0;\n",
    "col_name=2\n",
    "employer_title=[]\n",
    "employers=[]\n",
    "test=['https://www.linkedin.com/in/j-patil']\n",
    "for i in range(len(test)): #Iterate loop for number of links\n",
    "    \n",
    "    driver.get(test[i]) #Landed on LinkedIn profile of the person\n",
    "    time.sleep(2.5) #Sleep to show that its not automated\n",
    "    #text=driver.page_source \n",
    "    sel = Selector(text=driver.page_source) \n",
    "    person_location = sel.xpath('//*[starts-with(@class, \"t-16 t-black t-normal inline-block\")]/text()').extract_first()\n",
    "    #title=sel.xpath('//*[starts-with(@class, \"t-14 t-black t-bold\")]/text()').extract_first()\n",
    "    experience = driver.find_elements_by_css_selector('#experience-section .pv-profile-section')\n",
    "    for item in experience:\n",
    "        j+=1\n",
    "        while(j<3):\n",
    "            print(\"Experience: \",j)\n",
    "\n",
    "            a=item.text.split('\\n')\n",
    "\n",
    "            print(a)\n",
    "    \n",
    "            \n",
    "            if(a[0]==\"Company Name\"):\n",
    "                print(\"Employer: \",a[1])\n",
    "                print('Title: ',a[5])\n",
    "                employer_title.append(a[1],a[5])\n",
    "                titles.append(a[5])\n",
    "                employers.append(a[1])\n",
    "                results.cell(row=i+2, column=col_name).value = person_name\n",
    "\n",
    "            else:\n",
    "                print(\"Employer: \",a[2])\n",
    "                print('Title: ',a[0])\n",
    "                employer_title.append(a[2],a[0])\n",
    "    \n",
    "    \n",
    "    "
   ]
  },
  {
   "cell_type": "code",
   "execution_count": 111,
   "metadata": {},
   "outputs": [],
   "source": [
    "# # To get past employers\n",
    "# titles=[]\n",
    "# experience = driver.find_elements_by_css_selector('#experience-section .pv-profile-section')\n",
    "# j=0;\n",
    "# for item in experience:\n",
    "    \n",
    "#     print(j)\n",
    "    \n",
    "#     a=item.text.split('\\n')\n",
    "    \n",
    "#     print(a)\n",
    "\n",
    "        \n",
    "#     if(a[0]==\"Company Name\"):\n",
    "#         print(a[1])\n",
    "#     else:\n",
    "#         print(a[2])\n",
    "    "
   ]
  },
  {
   "cell_type": "code",
   "execution_count": 216,
   "metadata": {},
   "outputs": [
    {
     "name": "stdout",
     "output_type": "stream",
     "text": [
      "Data Scientist Intern\n"
     ]
    }
   ],
   "source": [
    "print (titles)"
   ]
  },
  {
   "cell_type": "code",
   "execution_count": null,
   "metadata": {},
   "outputs": [],
   "source": []
  },
  {
   "cell_type": "code",
   "execution_count": null,
   "metadata": {},
   "outputs": [],
   "source": []
  }
 ],
 "metadata": {
  "kernelspec": {
   "display_name": "Python 3",
   "language": "python",
   "name": "python3"
  },
  "language_info": {
   "codemirror_mode": {
    "name": "ipython",
    "version": 3
   },
   "file_extension": ".py",
   "mimetype": "text/x-python",
   "name": "python",
   "nbconvert_exporter": "python",
   "pygments_lexer": "ipython3",
   "version": "3.8.2"
  }
 },
 "nbformat": 4,
 "nbformat_minor": 4
}
