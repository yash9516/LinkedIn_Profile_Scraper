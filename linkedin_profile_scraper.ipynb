{
 "cells": [
  {
   "cell_type": "markdown",
   "metadata": {},
   "source": [
    "### Installing dependencies"
   ]
  },
  {
   "cell_type": "code",
   "execution_count": null,
   "metadata": {},
   "outputs": [],
   "source": [
    "pip install beautifulsoup4"
   ]
  },
  {
   "cell_type": "code",
   "execution_count": null,
   "metadata": {},
   "outputs": [],
   "source": [
    "import selenium\n",
    "# import ipython\n",
    "import time\n",
    "import parsel\n",
    "import csv\n",
    "\n",
    "import pandas as pd"
   ]
  },
  {
   "cell_type": "code",
   "execution_count": null,
   "metadata": {},
   "outputs": [],
   "source": [
    "# import web driver\n",
    "from selenium import webdriver\n",
    "\n",
    "\n"
   ]
  },
  {
   "cell_type": "code",
   "execution_count": null,
   "metadata": {
    "scrolled": true
   },
   "outputs": [],
   "source": [
    "#dfr = pd.read_csv('results_file.csv')"
   ]
  },
  {
   "cell_type": "code",
   "execution_count": null,
   "metadata": {},
   "outputs": [],
   "source": [
    "import openpyxl\n"
   ]
  },
  {
   "cell_type": "markdown",
   "metadata": {},
   "source": [
    "### We create a separate Excel sheet to write our fetched data"
   ]
  },
  {
   "cell_type": "code",
   "execution_count": null,
   "metadata": {},
   "outputs": [],
   "source": [
    "res = openpyxl.load_workbook(filename='results_file.xlsx')\n",
    "results = res.worksheets[0]\n"
   ]
  },
  {
   "cell_type": "code",
   "execution_count": null,
   "metadata": {
    "scrolled": true
   },
   "outputs": [],
   "source": [
    "#fr.head(10)"
   ]
  },
  {
   "cell_type": "markdown",
   "metadata": {},
   "source": [
    "### Leads.csv contains information about the Individuals to be searched. Columns include \"First Name\", \"Last Name\" and \"Company\""
   ]
  },
  {
   "cell_type": "code",
   "execution_count": null,
   "metadata": {},
   "outputs": [],
   "source": [
    "df = pd.read_csv('leads.csv',index_col='ID')"
   ]
  },
  {
   "cell_type": "code",
   "execution_count": null,
   "metadata": {},
   "outputs": [],
   "source": [
    "df.head(10)"
   ]
  },
  {
   "cell_type": "markdown",
   "metadata": {},
   "source": [
    "### We combine first name and last name"
   ]
  },
  {
   "cell_type": "code",
   "execution_count": null,
   "metadata": {},
   "outputs": [],
   "source": [
    "df['Name']=df['FirstName']+' '+df['LastName']"
   ]
  },
  {
   "cell_type": "code",
   "execution_count": null,
   "metadata": {},
   "outputs": [],
   "source": [
    "df.head()"
   ]
  },
  {
   "cell_type": "markdown",
   "metadata": {},
   "source": [
    "### Create two Lists to store Name of the individual and the Name of the Comapnies"
   ]
  },
  {
   "cell_type": "code",
   "execution_count": null,
   "metadata": {},
   "outputs": [],
   "source": [
    "names=df[\"Name\"].iloc[:].values\n",
    "companies=df[\"Company\"].iloc[:].values"
   ]
  },
  {
   "cell_type": "markdown",
   "metadata": {},
   "source": [
    "#### Imported googlesearch api to automate query searching"
   ]
  },
  {
   "cell_type": "markdown",
   "metadata": {},
   "source": [
    "### We google search the following query for every individual:\n",
    "Eg. If an Individual's names is Jack Smith and he belongs to a company with name \"Microsoft\" then we will googlesearch <strong> \"site:linkedin.com/in/ Jack Smith Microsoft\" </strong> and fetch the URL of the <strong>first search result</strong>.\n",
    "> The more input parameters we feed in this query apart from Name of the Individual and the organization he belongs to, higher the chances of uniquely identifying an individual. Since there can be many Jack Smith's working at Microsoft."
   ]
  },
  {
   "cell_type": "code",
   "execution_count": null,
   "metadata": {},
   "outputs": [],
   "source": [
    "from googlesearch import search \n",
    "\n"
   ]
  },
  {
   "cell_type": "code",
   "execution_count": null,
   "metadata": {},
   "outputs": [],
   "source": [
    "# to search \n",
    "col_name=1\n",
    "col_company_name=8\n",
    "col_person_link=11\n",
    "links=[]\n",
    "for i in range(len(companies)):\n",
    "    query = 'site:linkedin.com/in/'+\" \" + names[i] +\" \"+ companies[i] \n",
    "    \n",
    "    print(\"Query to search:\",query)\n",
    "    person_name=names[i]\n",
    "    company_name=companies[i]\n",
    "    for url in search(query, tld=\"co.in\", num=1, stop=1,pause=5): \n",
    "        person_link=url\n",
    "        print(\"LinkedIn URL:\",person_link)\n",
    "        results.cell(row=i+2, column=col_name).value = person_name\n",
    "        results.cell(row=i+2, column=col_company_name).value = company_name\n",
    "        results.cell(row=i+2, column=col_person_link).value = person_link\n",
    "        links.append(person_link)\n",
    "        \n",
    "\n"
   ]
  },
  {
   "cell_type": "code",
   "execution_count": null,
   "metadata": {},
   "outputs": [],
   "source": [
    "res.save(filename='results_file.xlsx')"
   ]
  },
  {
   "cell_type": "markdown",
   "metadata": {},
   "source": [
    "We create a separate .py file with variables:\n",
    "- username = 'Your linkedin email id'\n",
    "- Password = 'Your linkedin password'\n"
   ]
  },
  {
   "cell_type": "code",
   "execution_count": null,
   "metadata": {},
   "outputs": [],
   "source": [
    "%run \"parameters.py\""
   ]
  },
  {
   "cell_type": "code",
   "execution_count": null,
   "metadata": {},
   "outputs": [],
   "source": [
    "import parameters"
   ]
  },
  {
   "cell_type": "code",
   "execution_count": null,
   "metadata": {},
   "outputs": [],
   "source": [
    "# specifies the path to the chromedriver.exe\n",
    "driver = webdriver.Chrome('Location of the file Webdriver.exe to be put here')"
   ]
  },
  {
   "cell_type": "code",
   "execution_count": null,
   "metadata": {},
   "outputs": [],
   "source": [
    "# driver.get method() will navigate to a page given by the URL address\n",
    "driver.get('https://www.linkedin.com/login?fromSignIn=true&trk=guest_homepage-basic_nav-header-signin')"
   ]
  },
  {
   "cell_type": "code",
   "execution_count": null,
   "metadata": {},
   "outputs": [],
   "source": [
    "# locate email form by_class_name\n",
    "username = driver.find_element_by_id('username')\n",
    "\n",
    "\n",
    "# send_keys() to simulate key strokes\n",
    "username.send_keys(parameters.linkedin_username)\n",
    "# sleep for 0.5 seconds\n",
    "time.sleep(0.5)"
   ]
  },
  {
   "cell_type": "code",
   "execution_count": null,
   "metadata": {},
   "outputs": [],
   "source": [
    "# locate password form by_class_name\n",
    "password = driver.find_element_by_id('password')\n",
    "\n",
    "# send_keys() to simulate key strokes\n",
    "password.send_keys(parameters.linkedin_password)\n",
    "time.sleep(0.5)"
   ]
  },
  {
   "cell_type": "code",
   "execution_count": null,
   "metadata": {},
   "outputs": [],
   "source": [
    "\n",
    "# locate submit button by_id\n",
    "log_in_button = driver.find_element_by_class_name('login__form_action_container ')\n",
    "\n",
    "# .click() to mimic button click\n",
    "log_in_button.click()"
   ]
  },
  {
   "cell_type": "code",
   "execution_count": null,
   "metadata": {},
   "outputs": [],
   "source": [
    "from parsel import Selector"
   ]
  },
  {
   "cell_type": "code",
   "execution_count": null,
   "metadata": {},
   "outputs": [],
   "source": [
    "res.save(filename='results_file.xlsx')"
   ]
  },
  {
   "cell_type": "code",
   "execution_count": null,
   "metadata": {
    "scrolled": false
   },
   "outputs": [],
   "source": [
    "col_name=13\n",
    "curr_title=2\n",
    "prev_title=3\n",
    "\n",
    "\n",
    "\n",
    "\n",
    "\n",
    "for i in range(len(links)): #Iterate loop for number of links\n",
    "    j=0\n",
    "    driver.get(links[i]) #Landed on LinkedIn profile of the person\n",
    "    time.sleep(2.5) #Sleep to show that its not automated\n",
    "    #text=driver.page_source \n",
    "    sel = Selector(text=driver.page_source) \n",
    "    person_location = sel.xpath('//*[starts-with(@class, \"t-16 t-black t-normal inline-block\")]/text()').extract_first()\n",
    "    \n",
    "    experience = driver.find_elements_by_css_selector('#experience-section .pv-profile-section')\n",
    "    employer_title=[]\n",
    "    for item in experience:\n",
    "        j+=1\n",
    "        if(j==3):\n",
    "            break\n",
    "        else:\n",
    "            print(\"Experience: \",j)\n",
    "            a=item.text.split('\\n') \n",
    "            # Variable a is a list which stores all the information retrieved from the \"Experience\" section\n",
    "            # of the LinkedIn page.\n",
    "    \n",
    "            if(a[0]==\"Company Name\"):\n",
    "                employer_title.append((a[1],a[5]))\n",
    "            else:\n",
    "                employer_title.append((a[2],a[0]))\n",
    "        print(employer_title)\n",
    "    for k in range(len(employer_title)):\n",
    "        results.cell(row=i+2, column=curr_title).value = employer_title[0][1]\n",
    "        results.cell(row=i+2, column=prev_title).value = employer_title[1][1]\n",
    "    \n",
    "    "
   ]
  },
  {
   "cell_type": "code",
   "execution_count": null,
   "metadata": {},
   "outputs": [],
   "source": [
    "res.save(filename='results_file.xlsx')"
   ]
  },
  {
   "cell_type": "code",
   "execution_count": null,
   "metadata": {},
   "outputs": [],
   "source": []
  }
 ],
 "metadata": {
  "kernelspec": {
   "display_name": "Python 3",
   "language": "python",
   "name": "python3"
  },
  "language_info": {
   "codemirror_mode": {
    "name": "ipython",
    "version": 3
   },
   "file_extension": ".py",
   "mimetype": "text/x-python",
   "name": "python",
   "nbconvert_exporter": "python",
   "pygments_lexer": "ipython3",
   "version": "3.8.2"
  }
 },
 "nbformat": 4,
 "nbformat_minor": 4
}
